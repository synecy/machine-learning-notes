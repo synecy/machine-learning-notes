{
 "cells": [
  {
   "cell_type": "markdown",
   "metadata": {},
   "source": [
    "# Linear predictors"
   ]
  },
  {
   "cell_type": "code",
   "execution_count": 69,
   "metadata": {},
   "outputs": [],
   "source": [
    "# Define feature extractor function\n",
    "def feature_extractor(input_str):\n",
    "    features = {}\n",
    "    if \"@\" in input_str:\n",
    "        features[\"has_@\"] = 1\n",
    "    else:\n",
    "        features[\"has_@\"] = 0\n",
    "    if  len(input_str) > 7:\n",
    "        features[\"long_enough\"] = 1\n",
    "    else:\n",
    "        features[\"long_enough\"] = 0\n",
    "    if input_str[-4] == \".\":\n",
    "        features[\"ends_tld\"] = 1\n",
    "    else:\n",
    "        features[\"ends_tld\"] = 0\n",
    "    return features"
   ]
  },
  {
   "cell_type": "markdown",
   "metadata": {},
   "source": [
    "### Feature vector:\n",
    "\n",
    "$\\phi(x) \\in \\mathbb{R}^{d}$\n",
    "\n",
    "$\\phi(x) = [\\phi^{}_1(x), \\phi^{}_1(x), ... ,\\phi^{}_n(x)]$"
   ]
  },
  {
   "cell_type": "code",
   "execution_count": 70,
   "metadata": {},
   "outputs": [],
   "source": [
    "# Define feature vectorizer\n",
    "def feature_vector(features):\n",
    "    return list(features.values())"
   ]
  },
  {
   "cell_type": "markdown",
   "metadata": {},
   "source": [
    "### Weight vector:\n",
    "Represents each features contribution to prediction.\n",
    "\n",
    "$w \\in \\mathbb{R}^{d}$\n",
    "\n",
    "$\\phi(x) = [\\phi^{}_1(x), \\phi^{}_1(x), ... ,\\phi^{}_n(x)]$"
   ]
  },
  {
   "cell_type": "code",
   "execution_count": 71,
   "metadata": {},
   "outputs": [],
   "source": [
    "# Define weights for each feature in the feature vector.\n",
    "def weight_vector():\n",
    "    return list([1.5, -0.6, 1.1])"
   ]
  },
  {
   "cell_type": "markdown",
   "metadata": {},
   "source": [
    "### Score:\n",
    "Weighted combination of features.\n",
    "\n",
    "Also indicates **confidence** for our prediction.\n",
    "\n",
    "$w \\cdot \\phi(x) = \\sum_{i=1}^{d} w^{}_i\\times\\phi(x)^{}_i$"
   ]
  },
  {
   "cell_type": "code",
   "execution_count": 73,
   "metadata": {},
   "outputs": [],
   "source": [
    "# Calculate score.\n",
    "def score(feature_vector, weight_vector):\n",
    "    score = 0\n",
    "    for i in range(len(feature_vector)):\n",
    "        score = score + (feature_vector[i] * weight_vector[i])\n",
    "    return score"
   ]
  },
  {
   "cell_type": "markdown",
   "metadata": {},
   "source": [
    "### Linear binary classifier:\n",
    "\n",
    "$f^{}_w(x) = sign(w\\times\\phi(x)) = \\begin{Bmatrix} \n",
    "  +1 & if & w\\cdot\\phi(x) > 0 \\\\\n",
    "  -1 & if & w\\cdot\\phi(x) < 0 \\\\\n",
    "  (+1)? & if & w\\cdot\\phi(x) = 0\n",
    "\\end{Bmatrix}$\n"
   ]
  },
  {
   "cell_type": "code",
   "execution_count": 87,
   "metadata": {},
   "outputs": [],
   "source": [
    "# Define linear binary classifier.\n",
    "def classify(score):\n",
    "    if score > 0:\n",
    "        return 1\n",
    "    elif score < 0:\n",
    "        return -1\n",
    "    else:\n",
    "        return 1"
   ]
  },
  {
   "cell_type": "code",
   "execution_count": 98,
   "metadata": {},
   "outputs": [],
   "source": [
    "def is_email(address, debug=False):\n",
    "    features = feature_extractor(address)\n",
    "    feature_v = feature_vector(features)\n",
    "    weight_v = weight_vector()\n",
    "    score_num = score(feature_v, weight_v)\n",
    "    if debug:\n",
    "        print(features)\n",
    "        print(feature_v)\n",
    "        print(weight_v)\n",
    "        print(score_num)\n",
    "    is_email = classify(score_num)\n",
    "    print(\"Valid email address!\" if is_email > 0 else \"Invalid email address!\")"
   ]
  },
  {
   "cell_type": "code",
   "execution_count": 100,
   "metadata": {},
   "outputs": [
    {
     "name": "stdout",
     "output_type": "stream",
     "text": [
      "{'has_@': 1, 'long_enough': 1, 'ends_tld': 1}\n",
      "[1, 1, 1]\n",
      "[1.5, -0.6, 1.1]\n",
      "2.0\n",
      "Valid email address!\n",
      "Invalid email address!\n"
     ]
    }
   ],
   "source": [
    "is_email(\"pla@gmail.com\", True)\n",
    "is_email(\"plagmailcom\")"
   ]
  }
 ],
 "metadata": {
  "kernelspec": {
   "display_name": "Python 3",
   "language": "python",
   "name": "python3"
  },
  "language_info": {
   "codemirror_mode": {
    "name": "ipython",
    "version": 3
   },
   "file_extension": ".py",
   "mimetype": "text/x-python",
   "name": "python",
   "nbconvert_exporter": "python",
   "pygments_lexer": "ipython3",
   "version": "3.6.0"
  }
 },
 "nbformat": 4,
 "nbformat_minor": 2
}
